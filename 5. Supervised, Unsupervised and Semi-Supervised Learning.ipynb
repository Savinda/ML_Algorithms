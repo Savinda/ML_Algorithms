{
 "cells": [
  {
   "cell_type": "code",
   "execution_count": null,
   "metadata": {},
   "outputs": [],
   "source": [
    "'''In this chapter you learned the difference between supervised, unsupervised and semi-supervised\n",
    "learning. You now know that:\n",
    " Supervised: All data is labeled and the algorithms learn to predict the output from the\n",
    "input data.\n",
    " Unsupervised: All data is unlabeled and the algorithms learn to inherent structure from\n",
    "the input data.\n",
    " Semi-supervised: Some data is labeled but most of it is unlabeled and a mixture of\n",
    "supervised and unsupervised techniques can be used.'''"
   ]
  }
 ],
 "metadata": {
  "kernelspec": {
   "display_name": "Python 3",
   "language": "python",
   "name": "python3"
  },
  "language_info": {
   "codemirror_mode": {
    "name": "ipython",
    "version": 3
   },
   "file_extension": ".py",
   "mimetype": "text/x-python",
   "name": "python",
   "nbconvert_exporter": "python",
   "pygments_lexer": "ipython3",
   "version": "3.7.4"
  }
 },
 "nbformat": 4,
 "nbformat_minor": 2
}
