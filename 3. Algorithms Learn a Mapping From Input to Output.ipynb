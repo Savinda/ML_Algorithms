{
 "cells": [
  {
   "cell_type": "code",
   "execution_count": null,
   "metadata": {},
   "outputs": [],
   "source": [
    "'''You learned that machine learning algorithms work to estimate the mapping function (f)\n",
    "of output variables (Y ) given input variables (X), or Y = f(X).\n",
    " You also learned that different machine learning algorithms make different assumptions\n",
    "about the form of the underlying function.\n",
    " That when we don’t know much about the form of the target function we must try a suite\n",
    "of different algorithms to see what works best.'''"
   ]
  }
 ],
 "metadata": {
  "kernelspec": {
   "display_name": "Python 3",
   "language": "python",
   "name": "python3"
  },
  "language_info": {
   "codemirror_mode": {
    "name": "ipython",
    "version": 3
   },
   "file_extension": ".py",
   "mimetype": "text/x-python",
   "name": "python",
   "nbconvert_exporter": "python",
   "pygments_lexer": "ipython3",
   "version": "3.7.4"
  }
 },
 "nbformat": 4,
 "nbformat_minor": 2
}
