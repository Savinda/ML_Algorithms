{
 "cells": [
  {
   "cell_type": "code",
   "execution_count": null,
   "metadata": {},
   "outputs": [],
   "source": [
    "'''In this chapter you have discovered the difference between parametric and nonparametric\n",
    "machine learning algorithms.\n",
    " You learned that parametric methods make large assumptions about the mapping of the\n",
    "input variables to the output variable and in turn are faster to train, require less data but\n",
    "may not be as powerful.\n",
    " You also learned that nonparametric methods make few or no assumptions about the\n",
    "target function and in turn require a lot more data, are slower to train and have a higher\n",
    "model complexity but can result in more powerful models.'''"
   ]
  }
 ],
 "metadata": {
  "kernelspec": {
   "display_name": "Python 3",
   "language": "python",
   "name": "python3"
  },
  "language_info": {
   "codemirror_mode": {
    "name": "ipython",
    "version": 3
   },
   "file_extension": ".py",
   "mimetype": "text/x-python",
   "name": "python",
   "nbconvert_exporter": "python",
   "pygments_lexer": "ipython3",
   "version": "3.7.4"
  }
 },
 "nbformat": 4,
 "nbformat_minor": 2
}
